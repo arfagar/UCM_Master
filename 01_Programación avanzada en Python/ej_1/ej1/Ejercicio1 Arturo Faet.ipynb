{
 "cells": [
  {
   "cell_type": "code",
   "execution_count": 14,
   "id": "0ef3da3e",
   "metadata": {},
   "outputs": [
    {
     "name": "stdout",
     "output_type": "stream",
     "text": [
      "{'34.105.93.183', '39.103.168.88'}\n"
     ]
    }
   ],
   "source": [
    "import re\n",
    "\n",
    "def get_user_agent(line: str) -> str:\n",
    "    \"\"\"\n",
    "    Get the user agent of the line.\n",
    "\n",
    "    Expamples\n",
    "    ---------\n",
    "    >>> get_user_agent('66.249.66.35 - - [15/Sep/2023:00:18:46 +0200] \"GET /~luis/sw05-06/libre_m2_baja.pdf HTTP/1.1\" 200 5940849 \"-\" \"Mozilla/5.0 (compatible; Googlebot/2.1; +http://www.google.com/bot.html)\"')\n",
    "    'Mozilla/5.0 (compatible; Googlebot/2.1; +http://www.google.com/bot.html)'\n",
    "\n",
    "    >>> get_user_agent('147.96.46.52 - - [10/Oct/2023:12:55:47 +0200] \"GET /favicon.ico HTTP/1.1\" 404 519 \"https://antares.sip.ucm.es/\" \"Mozilla/5.0 (X11; Ubuntu; Linux x86_64; rv:109.0) Gecko/20100101 Firefox/117.0\"')\n",
    "    'Mozilla/5.0 (X11; Ubuntu; Linux x86_64; rv:109.0) Gecko/20100101 Firefox/117.0'\n",
    "    \"\"\"\n",
    "    \n",
    "    idenre=re.compile(r'(\\d+\\.\\d+\\.\\d+\\.\\d+)')\n",
    "    return (idenre.search(line)).group()\n",
    "\n",
    "def is_bot(line:str)-> bool:\n",
    "    '''\n",
    "    Check of the access in the line correspons to a bot\n",
    "\n",
    "    Examples\n",
    "    --------\n",
    "    >>> is_bot('147.96.46.52 - - [10/Oct/2023:12:55:47 +0200] \"GET /favicon.ico HTTP/1.1\" 404 519 \"https://antares.sip.ucm.es/\" \"Mozilla/5.0 (X11; Ubuntu; Linux x86_64; rv:109.0) Gecko/20100101 Firefox/117.0\"')\n",
    "    False\n",
    "\n",
    "    >>> is_bot('66.249.66.35 - - [15/Sep/2023:00:18:46 +0200] \"GET /~luis/sw05-06/libre_m2_baja.pdf HTTP/1.1\" 200 5940849 \"-\" \"Mozilla/5.0 (compatible; Googlebot/2.1; +http://www.google.com/bot.html)\"')\n",
    "    True\n",
    "\n",
    "    >>> is_bot('213.180.203.109 - - [15/Sep/2023:00:12:18 +0200] \"GET /robots.txt HTTP/1.1\" 302 567 \"-\" \"Mozilla/5.0 (compatible; YandexBot/3.0; +http://yandex.com/bots)\"')\n",
    "    True\n",
    "    '''\n",
    "    \n",
    "    botre=re.compile(r'(bot)|(Bot)')\n",
    "    return (botre.search(line.split('\"')[5]) is not None)\n",
    "\n",
    "def ipaddreses(filename:str)-> {str}:\n",
    "    \n",
    "    '''\n",
    "    Gets the IP address of the line\n",
    "\n",
    "    >>> get_ipaddr('213.180.203.109 - - [15/Sep/2023:00:12:18 +0200] \"GET /robots.txt HTTP/1.1\" 302 567 \"-\" \"Mozilla/5.0 (compatible; YandexBot/3.0; +http://yandex.com/bots)\"')\n",
    "    '213.180.203.109'\n",
    "\n",
    "    >>> get_ipaddr('147.96.46.52 - - [10/Oct/2023:12:55:47 +0200] \"GET /favicon.ico HTTP/1.1\" 404 519 \"https://antares.sip.ucm.es/\" \"Mozilla/5.0 (X11; Ubuntu; Linux x86_64; rv:109.0) Gecko/20100101 Firefox/117.0\"')\n",
    "    '147.96.46.52'\n",
    "    '''\n",
    "    \n",
    "    with open(filename) as file:\n",
    "        file_lines=file.readlines()\n",
    "    no_bot_IDs=[get_user_agent(line) for line in file_lines if not is_bot(line)]\n",
    "    file.close()\n",
    "    return set(no_bot_IDs)\n",
    "\n",
    "print(ipaddreses('access_short.log'))\n",
    "\n"
   ]
  },
  {
   "cell_type": "code",
   "execution_count": 14,
   "id": "a98136f5",
   "metadata": {},
   "outputs": [
    {
     "data": {
      "text/plain": [
       "{5: 3, 7: 2, 23: 1}"
      ]
     },
     "execution_count": 14,
     "metadata": {},
     "output_type": "execute_result"
    }
   ],
   "source": [
    "import re\n",
    "from datetime import datetime\n",
    "\n",
    "def get_hour(line: str) -> int:\n",
    "    \"\"\"\n",
    "    Get the user agent of the line.\n",
    "\n",
    "    Expamples\n",
    "    ---------\n",
    "    >>> get_hour('66.249.66.35 - - [15/Sep/2023:00:18:46 +0200] \"GET /~luis/sw05-06/libre_m2_baja.pdf HTTP/1.1\" 200 5940849 \"-\" \"Mozilla/5.0 (compatible; Googlebot/2.1; +http://www.google.com/bot.html)\"')\n",
    "    0\n",
    "\n",
    "    >>> get_hour('147.96.46.52 - - [10/Oct/2023:12:55:47 +0200] \"GET /favicon.ico HTTP/1.1\" 404 519 \"https://antacres.sip.ucm.es/\" \"Mozilla/5.0 (X11; Ubuntu; Linux x86_64; rv:109.0) Gecko/20100101 Firefox/117.0\"')\n",
    "    12\n",
    "    \"\"\"\n",
    "    datre=re.compile(r'\\[(.+)\\]')\n",
    "    date=datetime.strptime((datre.search(line)).group(1),'%d/%b/%Y:%H:%M:%S %z')\n",
    "    return date.hour\n",
    "\n",
    "\n",
    "def histbyhour(filename: str) -> {int: int}:\n",
    "    \n",
    "    '''\n",
    "    Computes the histogram of access by hour\n",
    "    '''\n",
    "    \n",
    "    with open(filename) as f:\n",
    "        file_lines=f.readlines()\n",
    "    hour_list=[get_hour(line) for line in file_lines]\n",
    "    freq_dic={}\n",
    "    for hour in hour_list:\n",
    "        if hour in freq_dic:\n",
    "            freq_dic[hour] += 1\n",
    "        else:\n",
    "            freq_dic[hour]=1\n",
    "    return freq_dic\n",
    "        \n",
    "    \n",
    "    \n",
    "histbyhour('access_short.log')  \n"
   ]
  },
  {
   "cell_type": "code",
   "execution_count": 16,
   "id": "2c2176bb",
   "metadata": {},
   "outputs": [],
   "source": [
    "import doctest\n",
    "\n",
    "def test_doc():\n",
    "    doctest.run_docstring_examples(get_user_agent, globals(), verbose=True)\n",
    "    doctest.run_docstring_examples(is_bot, globals(), verbose=True)\n",
    "    doctest.run_docstring_examples(get_ipaddr, globals(), verbose=True)\n",
    "    doctest.run_docstring_examples(get_hour, globals(), verbose=True)\n",
    "\n",
    "\n",
    "def test_ipaddresses():\n",
    "    assert ipaddreses('access_short.log') == {'34.105.93.183', '39.103.168.88'}\n",
    "\n",
    "def test_hist():\n",
    "    hist = histbyhour('access_short.log')\n",
    "    assert hist == {5: 3, 7: 2, 23: 1}"
   ]
  },
  {
   "cell_type": "code",
   "execution_count": null,
   "id": "74dbaa7a",
   "metadata": {},
   "outputs": [],
   "source": []
  }
 ],
 "metadata": {
  "kernelspec": {
   "display_name": "Python 3",
   "language": "python",
   "name": "python3"
  },
  "language_info": {
   "codemirror_mode": {
    "name": "ipython",
    "version": 3
   },
   "file_extension": ".py",
   "mimetype": "text/x-python",
   "name": "python",
   "nbconvert_exporter": "python",
   "pygments_lexer": "ipython3",
   "version": "3.8.8"
  }
 },
 "nbformat": 4,
 "nbformat_minor": 5
}
